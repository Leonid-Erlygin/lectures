{
 "cells": [
  {
   "cell_type": "code",
   "execution_count": 1,
   "metadata": {},
   "outputs": [],
   "source": [
    "import os\n",
    "\n",
    "from matplotlib import pyplot as plt\n",
    "import numpy as np\n",
    "import time\n",
    "from tqdm import tqdm\n",
    "from torchvision import datasets, models, transforms\n",
    "import torch\n",
    "from functools import reduce\n",
    "from typing import Union\n",
    "import torchvision\n",
    "import torch.nn as nn\n",
    "import torch.nn.functional as F\n",
    "from torchsummary import summary\n",
    "%load_ext autoreload\n",
    "%autoreload 2"
   ]
  },
  {
   "cell_type": "code",
   "execution_count": 2,
   "metadata": {},
   "outputs": [
    {
     "data": {
      "text/plain": [
       "device(type='cuda')"
      ]
     },
     "execution_count": 2,
     "metadata": {},
     "output_type": "execute_result"
    }
   ],
   "source": [
    "\n",
    "### Let's have a cell with global hyperparameters for the CNNs in this notebook\n",
    "\n",
    "# Path to a directory with image dataset and subfolders for training, validation and final testing\n",
    "DATA_PATH = '../datasets' # PATH TO THE DATASET\n",
    "\n",
    "# Number of threads for data loader\n",
    "NUM_WORKERS = 4\n",
    "\n",
    "# Image size: even though image sizes are bigger than 96, we use this to speed up training\n",
    "SIZE_H = SIZE_W = 224\n",
    "N_CHANNELS = 3\n",
    "\n",
    "# Number of classes in the dataset\n",
    "NUM_CLASSES = 2\n",
    "\n",
    "# Epochs: number of passes over the training data, we use it this small to reduce training babysitting time\n",
    "EPOCH_NUM = 30\n",
    "\n",
    "# Batch size: for batch gradient descent optimization, usually selected as 2**K elements\n",
    "BATCH_SIZE = 32\n",
    "\n",
    "# Images mean and std channelwise\n",
    "image_mean = [0.485, 0.456, 0.406]\n",
    "image_std  = [0.229, 0.224, 0.225]\n",
    "\n",
    "# Last layer (embeddings) size for CNN models\n",
    "EMBEDDING_SIZE = 256\n",
    "\n",
    "device = torch.device(\"cuda\") if torch.cuda.is_available() else torch.device(\"cpu\")\n",
    "device\n"
   ]
  },
  {
   "cell_type": "code",
   "execution_count": 3,
   "metadata": {},
   "outputs": [],
   "source": [
    "transformer = transforms.Compose([\n",
    "    transforms.Resize((SIZE_H, SIZE_W)),        # scaling images to fixed size\n",
    "    transforms.ToTensor(),                      # converting to tensors\n",
    "    transforms.Lambda(lambda x: torch.cat([x, x, x], 0) if x.shape[0] == 1 else x),\n",
    "    transforms.Normalize(image_mean, image_std) # normalize image data per-channel\n",
    "])"
   ]
  },
  {
   "cell_type": "markdown",
   "metadata": {},
   "source": [
    "## Prepare data"
   ]
  },
  {
   "cell_type": "code",
   "execution_count": 4,
   "metadata": {},
   "outputs": [
    {
     "name": "stdout",
     "output_type": "stream",
     "text": [
      "Files already downloaded and verified\n",
      "Files already downloaded and verified\n"
     ]
    }
   ],
   "source": [
    "caltech101 = torchvision.datasets.Caltech101(root=DATA_PATH, download=True, transform=transformer)#, transform=transformer)\n",
    "torch.manual_seed(0)\n",
    "train_dataset, val_dataset = torch.utils.data.random_split(caltech101, [7000, 1677])\n",
    "\n",
    "caltech101_unchanged = torchvision.datasets.Caltech101(root=DATA_PATH, download=True)\n",
    "torch.manual_seed(0)\n",
    "train_dataset_unchanged, val_dataset_unchanged = torch.utils.data.random_split(caltech101_unchanged, [7000, 1677])"
   ]
  },
  {
   "cell_type": "code",
   "execution_count": 5,
   "metadata": {},
   "outputs": [],
   "source": [
    "n_train, n_val = len(train_dataset), len(val_dataset)\n",
    "\n",
    "train_loader = torch.utils.data.DataLoader(\n",
    "    train_dataset, \n",
    "    batch_size=BATCH_SIZE,\n",
    "    shuffle=True,\n",
    "    num_workers=NUM_WORKERS\n",
    ")\n",
    "\n",
    "val_loader = torch.utils.data.DataLoader(\n",
    "    val_dataset,\n",
    "    batch_size=BATCH_SIZE,\n",
    "    num_workers=NUM_WORKERS\n",
    ")"
   ]
  },
  {
   "cell_type": "markdown",
   "metadata": {},
   "source": [
    "## Finetune VGG16"
   ]
  },
  {
   "cell_type": "code",
   "execution_count": 6,
   "metadata": {},
   "outputs": [
    {
     "name": "stderr",
     "output_type": "stream",
     "text": [
      "/home/devel/ws.leonid/lectures/.venv/lib/python3.8/site-packages/torchvision/models/_utils.py:208: UserWarning: The parameter 'pretrained' is deprecated since 0.13 and will be removed in 0.15, please use 'weights' instead.\n",
      "  warnings.warn(\n",
      "/home/devel/ws.leonid/lectures/.venv/lib/python3.8/site-packages/torchvision/models/_utils.py:223: UserWarning: Arguments other than a weight enum or `None` for 'weights' are deprecated since 0.13 and will be removed in 0.15. The current behavior is equivalent to passing `weights=VGG16_Weights.IMAGENET1K_V1`. You can also use `weights=VGG16_Weights.DEFAULT` to get the most up-to-date weights.\n",
      "  warnings.warn(msg)\n"
     ]
    }
   ],
   "source": [
    "\"\"\" VGG16\n",
    "    \"\"\"\n",
    "num_classes = 101\n",
    "model_ft = models.vgg16(pretrained=True)\n",
    "model_ft.classifier[6] = nn.Linear(model_ft.classifier[6].in_features, num_classes)\n",
    "model_ft.to(device);"
   ]
  },
  {
   "cell_type": "code",
   "execution_count": 7,
   "metadata": {},
   "outputs": [],
   "source": [
    "def compute_accuracy(model, val_loader):\n",
    "    val_accuracy = []\n",
    "    for X_batch, y_batch in val_loader:\n",
    "            # move data to target device\n",
    "            X_batch, y_batch = X_batch.to(device), y_batch.to(device)\n",
    "            # compute logits\n",
    "            logits = model(X_batch)\n",
    "            y_pred = logits.max(1)[1].data\n",
    "            val_accuracy.append(np.mean( (y_batch.cpu() == y_pred.cpu()).numpy() ))\n",
    "    return val_accuracy\n",
    "    \n",
    "def train_model(model, train_loader, val_loader, loss_fn, opt, n_epochs):\n",
    "    '''\n",
    "    model: нейросеть для обучения,\n",
    "    train_loader, val_loader: загрузчики данных\n",
    "    loss_fn: целевая метрика (которую будем оптимизировать)\n",
    "    opt: оптимизатор (обновляет веса нейросети)\n",
    "    n_epochs: кол-во эпох, полных проходов датасета\n",
    "    '''\n",
    "    train_loss = []\n",
    "    val_accuracy = []\n",
    "    \n",
    "    for epoch in range(n_epochs):\n",
    "        start_time = time.time()\n",
    "\n",
    "        model.train(True) # enable dropout / batch_norm training behavior\n",
    "        for X_batch, y_batch in train_loader:\n",
    "            # move data to target device\n",
    "            X_batch, y_batch = X_batch.to(device), y_batch.to(device)\n",
    "            # train on batch: compute loss, calc grads, perform optimizer step and zero the grads\n",
    "            opt.zero_grad()\n",
    "            predictions = model(X_batch)\n",
    "            loss = loss_fn(predictions, y_batch)\n",
    "            loss.backward()\n",
    "#             torch.nn.utils.clip_grad_norm_(model.parameters(), 5)\n",
    "            opt.step()\n",
    "            train_loss.append(loss.item())\n",
    "\n",
    "        model.train(False) # disable dropout / use averages for batch_norm\n",
    "        val_accuracy += compute_accuracy(model, val_loader)\n",
    "\n",
    "        # print the results for this epoch:\n",
    "        print(f'Epoch {epoch + 1} of {n_epochs} took {time.time() - start_time:.3f}s')\n",
    "\n",
    "        train_loss_value = np.mean(train_loss[-n_train // BATCH_SIZE :])\n",
    "        val_accuracy_value = np.mean(val_accuracy[-n_val // BATCH_SIZE :]) * 100\n",
    "        \n",
    "        print(f\"  training loss (in-iteration): \\t{train_loss_value:.6f}\")\n",
    "        print(f\"  validation accuracy: \\t\\t\\t{val_accuracy_value:.2f} %\")\n",
    "\n",
    "    return train_loss, val_accuracy"
   ]
  },
  {
   "cell_type": "code",
   "execution_count": 8,
   "metadata": {},
   "outputs": [
    {
     "ename": "KeyboardInterrupt",
     "evalue": "",
     "output_type": "error",
     "traceback": [
      "\u001b[0;31m---------------------------------------------------------------------------\u001b[0m",
      "\u001b[0;31mKeyboardInterrupt\u001b[0m                         Traceback (most recent call last)",
      "Cell \u001b[0;32mIn [8], line 3\u001b[0m\n\u001b[1;32m      1\u001b[0m optimizer_ft \u001b[39m=\u001b[39m torch\u001b[39m.\u001b[39moptim\u001b[39m.\u001b[39mSGD(model_ft\u001b[39m.\u001b[39mparameters(), lr\u001b[39m=\u001b[39m\u001b[39m0.001\u001b[39m, momentum\u001b[39m=\u001b[39m\u001b[39m0.9\u001b[39m)\n\u001b[1;32m      2\u001b[0m loss_fn \u001b[39m=\u001b[39m nn\u001b[39m.\u001b[39mCrossEntropyLoss()\n\u001b[0;32m----> 3\u001b[0m train_loss, val_accuracy \u001b[39m=\u001b[39m train_model(model_ft,\n\u001b[1;32m      4\u001b[0m                                          train_loader,\n\u001b[1;32m      5\u001b[0m                                          val_loader,\n\u001b[1;32m      6\u001b[0m                                          loss_fn,\n\u001b[1;32m      7\u001b[0m                                          optimizer_ft,\n\u001b[1;32m      8\u001b[0m                                          EPOCH_NUM)\n",
      "Cell \u001b[0;32mIn [7], line 37\u001b[0m, in \u001b[0;36mtrain_model\u001b[0;34m(model, train_loader, val_loader, loss_fn, opt, n_epochs)\u001b[0m\n\u001b[1;32m     35\u001b[0m \u001b[39m#             torch.nn.utils.clip_grad_norm_(model.parameters(), 5)\u001b[39;00m\n\u001b[1;32m     36\u001b[0m             opt\u001b[39m.\u001b[39mstep()\n\u001b[0;32m---> 37\u001b[0m             train_loss\u001b[39m.\u001b[39mappend(loss\u001b[39m.\u001b[39;49mitem())\n\u001b[1;32m     39\u001b[0m         model\u001b[39m.\u001b[39mtrain(\u001b[39mFalse\u001b[39;00m) \u001b[39m# disable dropout / use averages for batch_norm\u001b[39;00m\n\u001b[1;32m     40\u001b[0m         val_accuracy \u001b[39m+\u001b[39m\u001b[39m=\u001b[39m compute_accuracy(model, val_loader)\n",
      "\u001b[0;31mKeyboardInterrupt\u001b[0m: "
     ]
    }
   ],
   "source": [
    "# optimizer_ft = torch.optim.SGD(model_ft.parameters(), lr=0.001, momentum=0.9)\n",
    "# loss_fn = nn.CrossEntropyLoss()\n",
    "# train_loss, val_accuracy = train_model(model_ft,\n",
    "#                                          train_loader,\n",
    "#                                          val_loader,\n",
    "#                                          loss_fn,\n",
    "#                                          optimizer_ft,\n",
    "#                                          EPOCH_NUM)"
   ]
  },
  {
   "cell_type": "code",
   "execution_count": 9,
   "metadata": {},
   "outputs": [],
   "source": [
    "#torch.save(model_ft.state_dict(), '../data/vgg16.pt')\n",
    "\n",
    "# load model\n",
    "\n",
    "num_classes = 101\n",
    "model_ft = models.vgg16(pretrained=True)\n",
    "model_ft.classifier[6] = nn.Linear(model_ft.classifier[6].in_features, num_classes)\n",
    "model_ft.to(device);\n",
    "model_ft.load_state_dict(torch.load('../data/vgg16.pt'))\n",
    "model_ft.eval();\n"
   ]
  },
  {
   "cell_type": "code",
   "execution_count": 10,
   "metadata": {},
   "outputs": [
    {
     "data": {
      "text/plain": [
       "94.81585631349783"
      ]
     },
     "execution_count": 10,
     "metadata": {},
     "output_type": "execute_result"
    }
   ],
   "source": [
    "np.mean(compute_accuracy(model_ft, val_loader))*100"
   ]
  },
  {
   "cell_type": "markdown",
   "metadata": {},
   "source": [
    "# Visualize nn"
   ]
  },
  {
   "cell_type": "code",
   "execution_count": 11,
   "metadata": {},
   "outputs": [],
   "source": [
    "import sys\n",
    "import nn_interpretability as nni\n",
    "from nn_interpretability.interpretation.cam.grad_cam import GradCAMInterpreter"
   ]
  },
  {
   "cell_type": "code",
   "execution_count": 12,
   "metadata": {},
   "outputs": [],
   "source": [
    "def get_module_by_name(module: Union[torch.Tensor, nn.Module],\n",
    "                       access_string: str):\n",
    "    \"\"\"Retrieve a module nested in another by its access string.\n",
    "\n",
    "    Works even when there is a Sequential in the module.\n",
    "    \"\"\"\n",
    "    names = access_string.split(sep='.')\n",
    "    return reduce(getattr, names, module)"
   ]
  },
  {
   "cell_type": "markdown",
   "metadata": {},
   "source": [
    "## Visualize true predictions"
   ]
  },
  {
   "cell_type": "code",
   "execution_count": 18,
   "metadata": {},
   "outputs": [],
   "source": [
    "import sys\n",
    "\n",
    "sys.path.append(\n",
    "    \"/home/devel/ws.leonid/lectures/l5_visualization/vis_tools/pytorch_cnn_visualizations/src\"\n",
    ")\n",
    "\n",
    "from nn_interpretability.interpretation.cam.grad_cam import GradCAMInterpreter\n",
    "from itertools import product\n",
    "from nn_interpretability.interpretation.backprop.guided_backprop import GuidedBackprop\n",
    "from nn_interpretability.visualization.rgb_visualizer import RGBVisualizer\n",
    "\n",
    "from nn_interpretability.interpretation.backprop.vanilla_backprop import VanillaBackprop\n",
    "from nn_interpretability.interpretation.backprop.guided_backprop import GuidedBackprop\n",
    "from nn_interpretability.interpretation.backprop.integrated_grad import IntegratedGrad\n",
    "from nn_interpretability.interpretation.backprop.smooth_grad import SmoothGrad\n",
    "from nn_interpretability.model.model_trainer import ModelTrainer\n",
    "from nn_interpretability.model.model_repository import ModelRepository\n",
    "from nn_interpretability.visualization.mnist_visualizer import MnistVisualizer\n",
    "from nn_interpretability.dataset.mnist_data_loader import MnistDataLoader\n",
    "\n",
    "from layercam import LayerCam\n",
    "from gradcam import GradCam\n",
    "from misc_functions import apply_colormap_on_image, apply_heatmap, convert_to_grayscale\n",
    "from LRP import LRP\n",
    "from matplotlib.colors import ListedColormap\n",
    "\n",
    "from PIL import Image\n",
    "import cv2\n",
    "from pathlib import Path\n",
    "\n",
    "def apply_heatmap(R):\n",
    "    \"\"\"\n",
    "    Heatmap code stolen from https://git.tu-berlin.de/gmontavon/lrp-tutorial\n",
    "\n",
    "    This is (so far) only used for LRP\n",
    "    \"\"\"\n",
    "    b = 10 * ((np.abs(R) ** 3.0).mean() ** (1.0 / 3))\n",
    "    my_cmap = plt.cm.seismic(np.arange(plt.cm.seismic.N))\n",
    "    my_cmap[:, 0:3] *= 0.85\n",
    "    my_cmap = ListedColormap(my_cmap)\n",
    "\n",
    "    # heatmap = plt.imshow(R, cmap=my_cmap, vmin=-b, vmax=b, interpolation='nearest')\n",
    "    # plt.show()\n",
    "    return my_cmap, b\n",
    "\n",
    "\n",
    "def get_explanations(\n",
    "    model,\n",
    "    image_transformed: torch.tensor,\n",
    "    image_unchanged: Image,\n",
    "    image_category_name: str,\n",
    "    image_category: int,\n",
    "    save_path: Path\n",
    "):\n",
    "\n",
    "    image_shape = image_unchanged.size\n",
    "\n",
    "    int_grad_steps = 10\n",
    "    num_row = 5\n",
    "    num_col = 3\n",
    "\n",
    "    fig, axs = plt.subplots(num_row, num_col, figsize=(10, 15))\n",
    "    # set ticks to None\n",
    "    for i, j in product(range(num_row), range(num_col)):\n",
    "        axs[i, j].set_xticks([])\n",
    "        axs[i, j].set_yticks([])\n",
    "\n",
    "    # draw original image\n",
    "    axs[0, 0].imshow(image_unchanged)\n",
    "    axs[0, 0].set_title(f\"input image: {image_category_name}\")\n",
    "\n",
    "    # gradcam on image\n",
    "\n",
    "    grad_cam_extractor = GradCam(model_ft, target_layer=28)\n",
    "    grad_cam = cv2.resize(\n",
    "        grad_cam_extractor.generate_cam(image_transformed, target_class=image_category), image_shape\n",
    "    )\n",
    "\n",
    "    heatmap_grad_cam, heatmap_on_image_grad_cam = apply_colormap_on_image(\n",
    "        image_unchanged, grad_cam, \"hsv\"\n",
    "    )\n",
    "\n",
    "    axs[0, 1].imshow(heatmap_on_image_grad_cam)\n",
    "    axs[0, 1].set_title(\"GRAD-CAM on image\")\n",
    "\n",
    "    # gradcam\n",
    "    axs[0, 2].imshow(heatmap_grad_cam)\n",
    "    axs[0, 2].set_title(\"GRAD-CAM\")\n",
    "\n",
    "    # Vallina Backpropagation\n",
    "    interpretor = VanillaBackprop(model, [], None)\n",
    "    endpoint = interpretor.interpret(image_transformed, target_class = image_category)\n",
    "    gray = convert_to_grayscale(endpoint.detach().numpy()[0])\n",
    "    gray = gray - gray.min()\n",
    "    gray /= gray.max()\n",
    "    backprop_image = cv2.resize(\n",
    "        gray[0], image_shape\n",
    "    )\n",
    "    backprop_image = (backprop_image * 255).astype('uint8')\n",
    "    axs[1, 0].imshow(backprop_image, interpolation=\"nearest\")\n",
    "    axs[1, 0].set_title(\"Vallina Backpropagation\")\n",
    "\n",
    "    # Guided Backpropagation\n",
    "    interpretor = GuidedBackprop(model_ft, [], None)\n",
    "    endpoint = interpretor.interpret(image_transformed, target_class = image_category)\n",
    "    guided_backprop = RGBVisualizer.postprocess(endpoint)\n",
    "    guided_backprop = cv2.resize(guided_backprop, image_shape)\n",
    "\n",
    "    guided_backprop = (guided_backprop * 255).astype('uint8')\n",
    "    axs[1, 1].imshow(guided_backprop, interpolation=\"nearest\")\n",
    "    axs[1, 1].set_title(\"Guided Backpropagation \")\n",
    "\n",
    "    # Integrated Gradients\n",
    "    baseline = torch.zeros_like(image_transformed)\n",
    "    interpretor = IntegratedGrad(model, [], None, baseline, steps=20)\n",
    "    endpoint = interpretor.interpret(image_transformed)\n",
    "    gray = convert_to_grayscale(endpoint.detach().numpy()[0])\n",
    "    gray = gray - gray.min()\n",
    "    gray /= gray.max()\n",
    "    int_grad_image = cv2.resize(\n",
    "        gray[0], image_shape\n",
    "    )\n",
    "\n",
    "    int_grad_image = (int_grad_image * 255).astype('uint8')\n",
    "    axs[1, 2].imshow(int_grad_image, interpolation=\"nearest\")\n",
    "    axs[1, 2].set_title(\"Integrated Gradients\")\n",
    "\n",
    "    # layer CAM. Layer 30\n",
    "\n",
    "    layer_cam_extractor = LayerCam(model_ft, target_layer=30)\n",
    "    layer_cam = cv2.resize(\n",
    "        layer_cam_extractor.generate_cam(image_transformed, target_class=image_category), image_shape\n",
    "    )\n",
    "\n",
    "    heatmap_layer_cam, heatmap_on_image_layer_cam = apply_colormap_on_image(\n",
    "        image_unchanged, layer_cam, \"hsv\"\n",
    "    )\n",
    "\n",
    "    axs[2, 0].imshow(heatmap_on_image_layer_cam)\n",
    "    axs[2, 0].set_title(\"Layer-CAM(Layer 30) on image\")\n",
    "\n",
    "    axs[3, 0].imshow(heatmap_layer_cam)\n",
    "    axs[3, 0].set_title(\"Layer-CAM(Layer 30)\")\n",
    "\n",
    "    # layer CAM. Layer 23\n",
    "\n",
    "    layer_cam_extractor = LayerCam(model_ft, target_layer=23)\n",
    "    layer_cam = cv2.resize(\n",
    "        layer_cam_extractor.generate_cam(image_transformed, target_class=image_category), image_shape\n",
    "    )\n",
    "\n",
    "    heatmap_layer_cam, heatmap_on_image_layer_cam = apply_colormap_on_image(\n",
    "        image_unchanged, layer_cam, \"hsv\"\n",
    "    )\n",
    "\n",
    "    axs[2, 1].imshow(heatmap_on_image_layer_cam)\n",
    "    axs[2, 1].set_title(\"Layer-CAM(Layer 23) on image\")\n",
    "\n",
    "    axs[3, 1].imshow(heatmap_layer_cam)\n",
    "    axs[3, 1].set_title(\"Layer-CAM(Layer 23)\")\n",
    "\n",
    "    # layer CAM. Layer 16\n",
    "\n",
    "    layer_cam_extractor = LayerCam(model_ft, target_layer=16)\n",
    "    layer_cam = cv2.resize(\n",
    "        layer_cam_extractor.generate_cam(image_transformed, target_class=image_category), image_shape\n",
    "    )\n",
    "\n",
    "    heatmap_layer_cam, heatmap_on_image_layer_cam = apply_colormap_on_image(\n",
    "        image_unchanged, layer_cam, \"hsv\"\n",
    "    )\n",
    "\n",
    "    axs[2, 2].imshow(heatmap_on_image_layer_cam)\n",
    "    axs[2, 2].set_title(\"Layer-CAM(Layer 16) on image\")\n",
    "\n",
    "    axs[3, 2].imshow(heatmap_layer_cam)\n",
    "    axs[3, 2].set_title(\"Layer-CAM(Layer 16)\")\n",
    "\n",
    "    # LRP. Layer 1\n",
    "    layer = 1\n",
    "    layerwise_relevance = LRP(model_ft)\n",
    "    LRP_per_layer = layerwise_relevance.generate(\n",
    "        image_transformed, target_class=image_category\n",
    "    )\n",
    "\n",
    "    # Convert the output nicely, selecting the first layer\n",
    "    lrp_to_vis = np.array(LRP_per_layer[layer][0].cpu()).sum(axis=0)\n",
    "    lrp_to_vis = np.array(\n",
    "        Image.fromarray(lrp_to_vis).resize(\n",
    "            (image_unchanged.size[0], image_unchanged.size[1]), Image.ANTIALIAS\n",
    "        )\n",
    "    )\n",
    "\n",
    "    my_cmap, b = apply_heatmap(lrp_to_vis)\n",
    "    axs[4, 0].imshow(lrp_to_vis, cmap=my_cmap, vmin=-b, vmax=b, interpolation=\"nearest\")\n",
    "    axs[4, 0].set_title(f\"LRP(Layer {layer})\")\n",
    "\n",
    "    # LRP. Layer 7\n",
    "    layer = 7\n",
    "    layerwise_relevance = LRP(model_ft)\n",
    "    LRP_per_layer = layerwise_relevance.generate(\n",
    "        image_transformed, target_class=image_category\n",
    "    )\n",
    "\n",
    "    # Convert the output nicely, selecting the first layer\n",
    "    lrp_to_vis = np.array(LRP_per_layer[layer][0].cpu()).sum(axis=0)\n",
    "    lrp_to_vis = np.array(\n",
    "        Image.fromarray(lrp_to_vis).resize(\n",
    "            (image_unchanged.size[0], image_unchanged.size[1]), Image.ANTIALIAS\n",
    "        )\n",
    "    )\n",
    "\n",
    "    my_cmap, b = apply_heatmap(lrp_to_vis)\n",
    "    axs[4, 1].imshow(lrp_to_vis, cmap=my_cmap, vmin=-b, vmax=b, interpolation=\"nearest\")\n",
    "    axs[4, 1].set_title(f\"LRP(Layer {layer})\")\n",
    "\n",
    "    # LRP. Layer 16\n",
    "    layer = 16\n",
    "    layerwise_relevance = LRP(model_ft)\n",
    "    LRP_per_layer = layerwise_relevance.generate(\n",
    "        image_transformed, target_class=image_category\n",
    "    )\n",
    "\n",
    "    # Convert the output nicely, selecting the first layer\n",
    "    lrp_to_vis = np.array(LRP_per_layer[layer][0].cpu()).sum(axis=0)\n",
    "    lrp_to_vis = np.array(\n",
    "        Image.fromarray(lrp_to_vis).resize(\n",
    "            (image_unchanged.size[0], image_unchanged.size[1]), Image.ANTIALIAS\n",
    "        )\n",
    "    )\n",
    "\n",
    "    my_cmap, b = apply_heatmap(lrp_to_vis)\n",
    "    axs[4, 2].imshow(lrp_to_vis, cmap=my_cmap, vmin=-b, vmax=b, interpolation=\"nearest\")\n",
    "    axs[4, 2].set_title(f\"LRP(Layer {layer})\")\n",
    "\n",
    "    fig.tight_layout()\n",
    "    save_path.parent.mkdir(exist_ok=True, parents=True)\n",
    "    fig.savefig(save_path)\n",
    "    plt.close(fig)\n"
   ]
  },
  {
   "cell_type": "code",
   "execution_count": 19,
   "metadata": {},
   "outputs": [
    {
     "name": "stderr",
     "output_type": "stream",
     "text": [
      "/home/devel/ws.leonid/lectures/.venv/lib/python3.8/site-packages/torch/nn/modules/module.py:1053: UserWarning: Using a non-full backward hook when the forward contains multiple autograd Nodes is deprecated and will be removed in future versions. This hook will be missing some grad_input. Please use register_full_backward_hook to get the documented behavior.\n",
      "  warnings.warn(\"Using a non-full backward hook when the forward contains multiple autograd Nodes \"\n"
     ]
    }
   ],
   "source": [
    "image_index = 44\n",
    "image_unchanged, image_category = val_dataset_unchanged[image_index]\n",
    "image_transformed = torch.unsqueeze(transformer(image_unchanged), 0).to(device)\n",
    "get_explanations(model_ft, image_transformed, image_unchanged, caltech101.categories[image_category], image_category, Path('../outputs/test.png'))\n"
   ]
  },
  {
   "cell_type": "markdown",
   "metadata": {},
   "source": [
    "# Visualize dataset"
   ]
  },
  {
   "cell_type": "code",
   "execution_count": 24,
   "metadata": {},
   "outputs": [
    {
     "name": "stderr",
     "output_type": "stream",
     "text": [
      "  2%|▏         | 36/1677 [00:57<43:59,  1.61s/it]  \n"
     ]
    },
    {
     "ename": "KeyboardInterrupt",
     "evalue": "",
     "output_type": "error",
     "traceback": [
      "\u001b[0;31m---------------------------------------------------------------------------\u001b[0m",
      "\u001b[0;31mKeyboardInterrupt\u001b[0m                         Traceback (most recent call last)",
      "Cell \u001b[0;32mIn [24], line 21\u001b[0m\n\u001b[1;32m     15\u001b[0m \u001b[39mif\u001b[39;00m predicted_class \u001b[39m==\u001b[39m image_category:\n\u001b[1;32m     16\u001b[0m     \u001b[39m# right classified image. Save its visualization to foulder with class category name\u001b[39;00m\n\u001b[1;32m     18\u001b[0m     save_path \u001b[39m=\u001b[39mout_dir \u001b[39m/\u001b[39m Path(\n\u001b[1;32m     19\u001b[0m         \u001b[39mf\u001b[39m\u001b[39m\"\u001b[39m\u001b[39mtrue/\u001b[39m\u001b[39m{\u001b[39;00mtrue_category_name\u001b[39m}\u001b[39;00m\u001b[39m_id_\u001b[39m\u001b[39m{\u001b[39;00mimage_category\u001b[39m}\u001b[39;00m\u001b[39m/\u001b[39m\u001b[39m{\u001b[39;00mformated_image_index\u001b[39m}\u001b[39;00m\u001b[39m.png\u001b[39m\u001b[39m\"\u001b[39m\n\u001b[1;32m     20\u001b[0m     )\n\u001b[0;32m---> 21\u001b[0m     get_explanations(\n\u001b[1;32m     22\u001b[0m         model_ft,\n\u001b[1;32m     23\u001b[0m         image_transformed,\n\u001b[1;32m     24\u001b[0m         image_unchanged,\n\u001b[1;32m     25\u001b[0m         true_category_name,\n\u001b[1;32m     26\u001b[0m         image_category,\n\u001b[1;32m     27\u001b[0m         save_path,\n\u001b[1;32m     28\u001b[0m     )\n\u001b[1;32m     29\u001b[0m \u001b[39melse\u001b[39;00m:\n\u001b[1;32m     30\u001b[0m     \u001b[39m# misclassified image. Save vis with respect to true and predicted classes\u001b[39;00m\n\u001b[1;32m     31\u001b[0m     predicted_category_name \u001b[39m=\u001b[39m caltech101\u001b[39m.\u001b[39mcategories[predicted_class]\n",
      "Cell \u001b[0;32mIn [18], line 62\u001b[0m, in \u001b[0;36mget_explanations\u001b[0;34m(model, image_transformed, image_unchanged, image_category_name, image_category, save_path)\u001b[0m\n\u001b[1;32m     59\u001b[0m num_row \u001b[39m=\u001b[39m \u001b[39m5\u001b[39m\n\u001b[1;32m     60\u001b[0m num_col \u001b[39m=\u001b[39m \u001b[39m3\u001b[39m\n\u001b[0;32m---> 62\u001b[0m fig, axs \u001b[39m=\u001b[39m plt\u001b[39m.\u001b[39;49msubplots(num_row, num_col, figsize\u001b[39m=\u001b[39;49m(\u001b[39m10\u001b[39;49m, \u001b[39m15\u001b[39;49m))\n\u001b[1;32m     63\u001b[0m \u001b[39m# set ticks to None\u001b[39;00m\n\u001b[1;32m     64\u001b[0m \u001b[39mfor\u001b[39;00m i, j \u001b[39min\u001b[39;00m product(\u001b[39mrange\u001b[39m(num_row), \u001b[39mrange\u001b[39m(num_col)):\n",
      "File \u001b[0;32m~/ws.leonid/lectures/.venv/lib/python3.8/site-packages/matplotlib/cbook/deprecation.py:451\u001b[0m, in \u001b[0;36m_make_keyword_only.<locals>.wrapper\u001b[0;34m(*args, **kwargs)\u001b[0m\n\u001b[1;32m    445\u001b[0m \u001b[39mif\u001b[39;00m \u001b[39mlen\u001b[39m(args) \u001b[39m>\u001b[39m idx:\n\u001b[1;32m    446\u001b[0m     warn_deprecated(\n\u001b[1;32m    447\u001b[0m         since, message\u001b[39m=\u001b[39m\u001b[39m\"\u001b[39m\u001b[39mPassing the \u001b[39m\u001b[39m%(name)s\u001b[39;00m\u001b[39m \u001b[39m\u001b[39m%(obj_type)s\u001b[39;00m\u001b[39m \u001b[39m\u001b[39m\"\u001b[39m\n\u001b[1;32m    448\u001b[0m         \u001b[39m\"\u001b[39m\u001b[39mpositionally is deprecated since Matplotlib \u001b[39m\u001b[39m%(since)s\u001b[39;00m\u001b[39m; the \u001b[39m\u001b[39m\"\u001b[39m\n\u001b[1;32m    449\u001b[0m         \u001b[39m\"\u001b[39m\u001b[39mparameter will become keyword-only \u001b[39m\u001b[39m%(removal)s\u001b[39;00m\u001b[39m.\u001b[39m\u001b[39m\"\u001b[39m,\n\u001b[1;32m    450\u001b[0m         name\u001b[39m=\u001b[39mname, obj_type\u001b[39m=\u001b[39m\u001b[39mf\u001b[39m\u001b[39m\"\u001b[39m\u001b[39mparameter of \u001b[39m\u001b[39m{\u001b[39;00mfunc\u001b[39m.\u001b[39m\u001b[39m__name__\u001b[39m\u001b[39m}\u001b[39;00m\u001b[39m()\u001b[39m\u001b[39m\"\u001b[39m)\n\u001b[0;32m--> 451\u001b[0m \u001b[39mreturn\u001b[39;00m func(\u001b[39m*\u001b[39;49margs, \u001b[39m*\u001b[39;49m\u001b[39m*\u001b[39;49mkwargs)\n",
      "File \u001b[0;32m~/ws.leonid/lectures/.venv/lib/python3.8/site-packages/matplotlib/pyplot.py:1271\u001b[0m, in \u001b[0;36msubplots\u001b[0;34m(nrows, ncols, sharex, sharey, squeeze, subplot_kw, gridspec_kw, **fig_kw)\u001b[0m\n\u001b[1;32m   1142\u001b[0m \u001b[39m\"\"\"\u001b[39;00m\n\u001b[1;32m   1143\u001b[0m \u001b[39mCreate a figure and a set of subplots.\u001b[39;00m\n\u001b[1;32m   1144\u001b[0m \n\u001b[0;32m   (...)\u001b[0m\n\u001b[1;32m   1268\u001b[0m \n\u001b[1;32m   1269\u001b[0m \u001b[39m\"\"\"\u001b[39;00m\n\u001b[1;32m   1270\u001b[0m fig \u001b[39m=\u001b[39m figure(\u001b[39m*\u001b[39m\u001b[39m*\u001b[39mfig_kw)\n\u001b[0;32m-> 1271\u001b[0m axs \u001b[39m=\u001b[39m fig\u001b[39m.\u001b[39;49msubplots(nrows\u001b[39m=\u001b[39;49mnrows, ncols\u001b[39m=\u001b[39;49mncols, sharex\u001b[39m=\u001b[39;49msharex, sharey\u001b[39m=\u001b[39;49msharey,\n\u001b[1;32m   1272\u001b[0m                    squeeze\u001b[39m=\u001b[39;49msqueeze, subplot_kw\u001b[39m=\u001b[39;49msubplot_kw,\n\u001b[1;32m   1273\u001b[0m                    gridspec_kw\u001b[39m=\u001b[39;49mgridspec_kw)\n\u001b[1;32m   1274\u001b[0m \u001b[39mreturn\u001b[39;00m fig, axs\n",
      "File \u001b[0;32m~/ws.leonid/lectures/.venv/lib/python3.8/site-packages/matplotlib/cbook/deprecation.py:451\u001b[0m, in \u001b[0;36m_make_keyword_only.<locals>.wrapper\u001b[0;34m(*args, **kwargs)\u001b[0m\n\u001b[1;32m    445\u001b[0m \u001b[39mif\u001b[39;00m \u001b[39mlen\u001b[39m(args) \u001b[39m>\u001b[39m idx:\n\u001b[1;32m    446\u001b[0m     warn_deprecated(\n\u001b[1;32m    447\u001b[0m         since, message\u001b[39m=\u001b[39m\u001b[39m\"\u001b[39m\u001b[39mPassing the \u001b[39m\u001b[39m%(name)s\u001b[39;00m\u001b[39m \u001b[39m\u001b[39m%(obj_type)s\u001b[39;00m\u001b[39m \u001b[39m\u001b[39m\"\u001b[39m\n\u001b[1;32m    448\u001b[0m         \u001b[39m\"\u001b[39m\u001b[39mpositionally is deprecated since Matplotlib \u001b[39m\u001b[39m%(since)s\u001b[39;00m\u001b[39m; the \u001b[39m\u001b[39m\"\u001b[39m\n\u001b[1;32m    449\u001b[0m         \u001b[39m\"\u001b[39m\u001b[39mparameter will become keyword-only \u001b[39m\u001b[39m%(removal)s\u001b[39;00m\u001b[39m.\u001b[39m\u001b[39m\"\u001b[39m,\n\u001b[1;32m    450\u001b[0m         name\u001b[39m=\u001b[39mname, obj_type\u001b[39m=\u001b[39m\u001b[39mf\u001b[39m\u001b[39m\"\u001b[39m\u001b[39mparameter of \u001b[39m\u001b[39m{\u001b[39;00mfunc\u001b[39m.\u001b[39m\u001b[39m__name__\u001b[39m\u001b[39m}\u001b[39;00m\u001b[39m()\u001b[39m\u001b[39m\"\u001b[39m)\n\u001b[0;32m--> 451\u001b[0m \u001b[39mreturn\u001b[39;00m func(\u001b[39m*\u001b[39;49margs, \u001b[39m*\u001b[39;49m\u001b[39m*\u001b[39;49mkwargs)\n",
      "File \u001b[0;32m~/ws.leonid/lectures/.venv/lib/python3.8/site-packages/matplotlib/figure.py:1522\u001b[0m, in \u001b[0;36mFigure.subplots\u001b[0;34m(self, nrows, ncols, sharex, sharey, squeeze, subplot_kw, gridspec_kw)\u001b[0m\n\u001b[1;32m   1520\u001b[0m \u001b[39mif\u001b[39;00m gridspec_kw \u001b[39mis\u001b[39;00m \u001b[39mNone\u001b[39;00m:\n\u001b[1;32m   1521\u001b[0m     gridspec_kw \u001b[39m=\u001b[39m {}\n\u001b[0;32m-> 1522\u001b[0m \u001b[39mreturn\u001b[39;00m (\u001b[39mself\u001b[39;49m\u001b[39m.\u001b[39;49madd_gridspec(nrows, ncols, figure\u001b[39m=\u001b[39;49m\u001b[39mself\u001b[39;49m, \u001b[39m*\u001b[39;49m\u001b[39m*\u001b[39;49mgridspec_kw)\n\u001b[1;32m   1523\u001b[0m         \u001b[39m.\u001b[39;49msubplots(sharex\u001b[39m=\u001b[39;49msharex, sharey\u001b[39m=\u001b[39;49msharey, squeeze\u001b[39m=\u001b[39;49msqueeze,\n\u001b[1;32m   1524\u001b[0m                   subplot_kw\u001b[39m=\u001b[39;49msubplot_kw))\n",
      "File \u001b[0;32m~/ws.leonid/lectures/.venv/lib/python3.8/site-packages/matplotlib/gridspec.py:336\u001b[0m, in \u001b[0;36mGridSpecBase.subplots\u001b[0;34m(self, sharex, sharey, squeeze, subplot_kw)\u001b[0m\n\u001b[1;32m    334\u001b[0m         subplot_kw[\u001b[39m\"\u001b[39m\u001b[39msharex\u001b[39m\u001b[39m\"\u001b[39m] \u001b[39m=\u001b[39m shared_with[sharex]\n\u001b[1;32m    335\u001b[0m         subplot_kw[\u001b[39m\"\u001b[39m\u001b[39msharey\u001b[39m\u001b[39m\"\u001b[39m] \u001b[39m=\u001b[39m shared_with[sharey]\n\u001b[0;32m--> 336\u001b[0m         axarr[row, col] \u001b[39m=\u001b[39m figure\u001b[39m.\u001b[39;49madd_subplot(\n\u001b[1;32m    337\u001b[0m             \u001b[39mself\u001b[39;49m[row, col], \u001b[39m*\u001b[39;49m\u001b[39m*\u001b[39;49msubplot_kw)\n\u001b[1;32m    339\u001b[0m \u001b[39m# turn off redundant tick labeling\u001b[39;00m\n\u001b[1;32m    340\u001b[0m \u001b[39mif\u001b[39;00m sharex \u001b[39min\u001b[39;00m [\u001b[39m\"\u001b[39m\u001b[39mcol\u001b[39m\u001b[39m\"\u001b[39m, \u001b[39m\"\u001b[39m\u001b[39mall\u001b[39m\u001b[39m\"\u001b[39m]:\n\u001b[1;32m    341\u001b[0m     \u001b[39m# turn off all but the bottom row\u001b[39;00m\n",
      "File \u001b[0;32m~/ws.leonid/lectures/.venv/lib/python3.8/site-packages/matplotlib/figure.py:1402\u001b[0m, in \u001b[0;36mFigure.add_subplot\u001b[0;34m(self, *args, **kwargs)\u001b[0m\n\u001b[1;32m   1395\u001b[0m         \u001b[39melse\u001b[39;00m:\n\u001b[1;32m   1396\u001b[0m             \u001b[39m# Undocumented convenience behavior:\u001b[39;00m\n\u001b[1;32m   1397\u001b[0m             \u001b[39m# subplot(111); subplot(111, projection='polar')\u001b[39;00m\n\u001b[1;32m   1398\u001b[0m             \u001b[39m# will replace the first with the second.\u001b[39;00m\n\u001b[1;32m   1399\u001b[0m             \u001b[39m# Without this, add_subplot would be simpler and\u001b[39;00m\n\u001b[1;32m   1400\u001b[0m             \u001b[39m# more similar to add_axes.\u001b[39;00m\n\u001b[1;32m   1401\u001b[0m             \u001b[39mself\u001b[39m\u001b[39m.\u001b[39m_axstack\u001b[39m.\u001b[39mremove(ax)\n\u001b[0;32m-> 1402\u001b[0m     ax \u001b[39m=\u001b[39m subplot_class_factory(projection_class)(\u001b[39mself\u001b[39;49m, \u001b[39m*\u001b[39;49margs, \u001b[39m*\u001b[39;49m\u001b[39m*\u001b[39;49mkwargs)\n\u001b[1;32m   1404\u001b[0m \u001b[39mreturn\u001b[39;00m \u001b[39mself\u001b[39m\u001b[39m.\u001b[39m_add_axes_internal(key, ax)\n",
      "File \u001b[0;32m~/ws.leonid/lectures/.venv/lib/python3.8/site-packages/matplotlib/axes/_subplots.py:42\u001b[0m, in \u001b[0;36mSubplotBase.__init__\u001b[0;34m(self, fig, *args, **kwargs)\u001b[0m\n\u001b[1;32m     40\u001b[0m \u001b[39mself\u001b[39m\u001b[39m.\u001b[39mupdate_params()\n\u001b[1;32m     41\u001b[0m \u001b[39m# _axes_class is set in the subplot_class_factory\u001b[39;00m\n\u001b[0;32m---> 42\u001b[0m \u001b[39mself\u001b[39;49m\u001b[39m.\u001b[39;49m_axes_class\u001b[39m.\u001b[39;49m\u001b[39m__init__\u001b[39;49m(\u001b[39mself\u001b[39;49m, fig, \u001b[39mself\u001b[39;49m\u001b[39m.\u001b[39;49mfigbox, \u001b[39m*\u001b[39;49m\u001b[39m*\u001b[39;49mkwargs)\n\u001b[1;32m     43\u001b[0m \u001b[39m# add a layout box to this, for both the full axis, and the poss\u001b[39;00m\n\u001b[1;32m     44\u001b[0m \u001b[39m# of the axis.  We need both because the axes may become smaller\u001b[39;00m\n\u001b[1;32m     45\u001b[0m \u001b[39m# due to parasitic axes and hence no longer fill the subplotspec.\u001b[39;00m\n\u001b[1;32m     46\u001b[0m \u001b[39mif\u001b[39;00m \u001b[39mself\u001b[39m\u001b[39m.\u001b[39m_subplotspec\u001b[39m.\u001b[39m_layoutbox \u001b[39mis\u001b[39;00m \u001b[39mNone\u001b[39;00m:\n",
      "File \u001b[0;32m~/ws.leonid/lectures/.venv/lib/python3.8/site-packages/matplotlib/axes/_base.py:500\u001b[0m, in \u001b[0;36m_AxesBase.__init__\u001b[0;34m(self, fig, rect, facecolor, frameon, sharex, sharey, label, xscale, yscale, box_aspect, **kwargs)\u001b[0m\n\u001b[1;32m    497\u001b[0m \u001b[39mself\u001b[39m\u001b[39m.\u001b[39mset_box_aspect(box_aspect)\n\u001b[1;32m    498\u001b[0m \u001b[39mself\u001b[39m\u001b[39m.\u001b[39m_axes_locator \u001b[39m=\u001b[39m \u001b[39mNone\u001b[39;00m  \u001b[39m# Optionally set via update(kwargs).\u001b[39;00m\n\u001b[0;32m--> 500\u001b[0m \u001b[39mself\u001b[39m\u001b[39m.\u001b[39mspines \u001b[39m=\u001b[39m \u001b[39mself\u001b[39;49m\u001b[39m.\u001b[39;49m_gen_axes_spines()\n\u001b[1;32m    502\u001b[0m \u001b[39m# this call may differ for non-sep axes, e.g., polar\u001b[39;00m\n\u001b[1;32m    503\u001b[0m \u001b[39mself\u001b[39m\u001b[39m.\u001b[39m_init_axis()\n",
      "File \u001b[0;32m~/ws.leonid/lectures/.venv/lib/python3.8/site-packages/matplotlib/axes/_base.py:1002\u001b[0m, in \u001b[0;36m_AxesBase._gen_axes_spines\u001b[0;34m(self, locations, offset, units)\u001b[0m\n\u001b[1;32m    987\u001b[0m \u001b[39mdef\u001b[39;00m \u001b[39m_gen_axes_spines\u001b[39m(\u001b[39mself\u001b[39m, locations\u001b[39m=\u001b[39m\u001b[39mNone\u001b[39;00m, offset\u001b[39m=\u001b[39m\u001b[39m0.0\u001b[39m, units\u001b[39m=\u001b[39m\u001b[39m'\u001b[39m\u001b[39minches\u001b[39m\u001b[39m'\u001b[39m):\n\u001b[1;32m    988\u001b[0m     \u001b[39m\"\"\"\u001b[39;00m\n\u001b[1;32m    989\u001b[0m \u001b[39m    Returns\u001b[39;00m\n\u001b[1;32m    990\u001b[0m \u001b[39m    -------\u001b[39;00m\n\u001b[0;32m   (...)\u001b[0m\n\u001b[1;32m   1000\u001b[0m \u001b[39m    Intended to be overridden by new projection types.\u001b[39;00m\n\u001b[1;32m   1001\u001b[0m \u001b[39m    \"\"\"\u001b[39;00m\n\u001b[0;32m-> 1002\u001b[0m     \u001b[39mreturn\u001b[39;00m OrderedDict((side, mspines\u001b[39m.\u001b[39;49mSpine\u001b[39m.\u001b[39;49mlinear_spine(\u001b[39mself\u001b[39;49m, side))\n\u001b[1;32m   1003\u001b[0m                        \u001b[39mfor\u001b[39;49;00m side \u001b[39min\u001b[39;49;00m [\u001b[39m'\u001b[39;49m\u001b[39mleft\u001b[39;49m\u001b[39m'\u001b[39;49m, \u001b[39m'\u001b[39;49m\u001b[39mright\u001b[39;49m\u001b[39m'\u001b[39;49m, \u001b[39m'\u001b[39;49m\u001b[39mbottom\u001b[39;49m\u001b[39m'\u001b[39;49m, \u001b[39m'\u001b[39;49m\u001b[39mtop\u001b[39;49m\u001b[39m'\u001b[39;49m])\n",
      "File \u001b[0;32m~/ws.leonid/lectures/.venv/lib/python3.8/site-packages/matplotlib/axes/_base.py:1002\u001b[0m, in \u001b[0;36m<genexpr>\u001b[0;34m(.0)\u001b[0m\n\u001b[1;32m    987\u001b[0m \u001b[39mdef\u001b[39;00m \u001b[39m_gen_axes_spines\u001b[39m(\u001b[39mself\u001b[39m, locations\u001b[39m=\u001b[39m\u001b[39mNone\u001b[39;00m, offset\u001b[39m=\u001b[39m\u001b[39m0.0\u001b[39m, units\u001b[39m=\u001b[39m\u001b[39m'\u001b[39m\u001b[39minches\u001b[39m\u001b[39m'\u001b[39m):\n\u001b[1;32m    988\u001b[0m     \u001b[39m\"\"\"\u001b[39;00m\n\u001b[1;32m    989\u001b[0m \u001b[39m    Returns\u001b[39;00m\n\u001b[1;32m    990\u001b[0m \u001b[39m    -------\u001b[39;00m\n\u001b[0;32m   (...)\u001b[0m\n\u001b[1;32m   1000\u001b[0m \u001b[39m    Intended to be overridden by new projection types.\u001b[39;00m\n\u001b[1;32m   1001\u001b[0m \u001b[39m    \"\"\"\u001b[39;00m\n\u001b[0;32m-> 1002\u001b[0m     \u001b[39mreturn\u001b[39;00m OrderedDict((side, mspines\u001b[39m.\u001b[39;49mSpine\u001b[39m.\u001b[39;49mlinear_spine(\u001b[39mself\u001b[39;49m, side))\n\u001b[1;32m   1003\u001b[0m                        \u001b[39mfor\u001b[39;00m side \u001b[39min\u001b[39;00m [\u001b[39m'\u001b[39m\u001b[39mleft\u001b[39m\u001b[39m'\u001b[39m, \u001b[39m'\u001b[39m\u001b[39mright\u001b[39m\u001b[39m'\u001b[39m, \u001b[39m'\u001b[39m\u001b[39mbottom\u001b[39m\u001b[39m'\u001b[39m, \u001b[39m'\u001b[39m\u001b[39mtop\u001b[39m\u001b[39m'\u001b[39m])\n",
      "File \u001b[0;32m~/ws.leonid/lectures/.venv/lib/python3.8/site-packages/matplotlib/spines.py:498\u001b[0m, in \u001b[0;36mSpine.linear_spine\u001b[0;34m(cls, axes, spine_type, **kwargs)\u001b[0m\n\u001b[1;32m    496\u001b[0m \u001b[39melse\u001b[39;00m:\n\u001b[1;32m    497\u001b[0m     \u001b[39mraise\u001b[39;00m \u001b[39mValueError\u001b[39;00m(\u001b[39m'\u001b[39m\u001b[39munable to make path for spine \u001b[39m\u001b[39m\"\u001b[39m\u001b[39m%s\u001b[39;00m\u001b[39m\"\u001b[39m\u001b[39m'\u001b[39m \u001b[39m%\u001b[39m spine_type)\n\u001b[0;32m--> 498\u001b[0m result \u001b[39m=\u001b[39m \u001b[39mcls\u001b[39;49m(axes, spine_type, path, \u001b[39m*\u001b[39;49m\u001b[39m*\u001b[39;49mkwargs)\n\u001b[1;32m    499\u001b[0m result\u001b[39m.\u001b[39mset_visible(rcParams[\u001b[39m'\u001b[39m\u001b[39maxes.spines.\u001b[39m\u001b[39m{0}\u001b[39;00m\u001b[39m'\u001b[39m\u001b[39m.\u001b[39mformat(spine_type)])\n\u001b[1;32m    501\u001b[0m \u001b[39mreturn\u001b[39;00m result\n",
      "File \u001b[0;32m~/ws.leonid/lectures/.venv/lib/python3.8/site-packages/matplotlib/spines.py:50\u001b[0m, in \u001b[0;36mSpine.__init__\u001b[0;34m(self, axes, spine_type, path, **kwargs)\u001b[0m\n\u001b[1;32m     31\u001b[0m \u001b[39m@docstring\u001b[39m\u001b[39m.\u001b[39mdedent_interpd\n\u001b[1;32m     32\u001b[0m \u001b[39mdef\u001b[39;00m \u001b[39m__init__\u001b[39m(\u001b[39mself\u001b[39m, axes, spine_type, path, \u001b[39m*\u001b[39m\u001b[39m*\u001b[39mkwargs):\n\u001b[1;32m     33\u001b[0m     \u001b[39m\"\"\"\u001b[39;00m\n\u001b[1;32m     34\u001b[0m \u001b[39m    Parameters\u001b[39;00m\n\u001b[1;32m     35\u001b[0m \u001b[39m    ----------\u001b[39;00m\n\u001b[0;32m   (...)\u001b[0m\n\u001b[1;32m     48\u001b[0m \u001b[39m        %(Patch)s\u001b[39;00m\n\u001b[1;32m     49\u001b[0m \u001b[39m    \"\"\"\u001b[39;00m\n\u001b[0;32m---> 50\u001b[0m     \u001b[39msuper\u001b[39;49m()\u001b[39m.\u001b[39;49m\u001b[39m__init__\u001b[39;49m(\u001b[39m*\u001b[39;49m\u001b[39m*\u001b[39;49mkwargs)\n\u001b[1;32m     51\u001b[0m     \u001b[39mself\u001b[39m\u001b[39m.\u001b[39maxes \u001b[39m=\u001b[39m axes\n\u001b[1;32m     52\u001b[0m     \u001b[39mself\u001b[39m\u001b[39m.\u001b[39mset_figure(\u001b[39mself\u001b[39m\u001b[39m.\u001b[39maxes\u001b[39m.\u001b[39mfigure)\n",
      "File \u001b[0;32m~/ws.leonid/lectures/.venv/lib/python3.8/site-packages/matplotlib/patches.py:81\u001b[0m, in \u001b[0;36mPatch.__init__\u001b[0;34m(self, edgecolor, facecolor, color, linewidth, linestyle, antialiased, hatch, fill, capstyle, joinstyle, **kwargs)\u001b[0m\n\u001b[1;32m     79\u001b[0m \u001b[39melse\u001b[39;00m:\n\u001b[1;32m     80\u001b[0m     \u001b[39mself\u001b[39m\u001b[39m.\u001b[39mset_edgecolor(edgecolor)\n\u001b[0;32m---> 81\u001b[0m     \u001b[39mself\u001b[39;49m\u001b[39m.\u001b[39;49mset_facecolor(facecolor)\n\u001b[1;32m     82\u001b[0m \u001b[39m# unscaled dashes.  Needed to scale dash patterns by lw\u001b[39;00m\n\u001b[1;32m     83\u001b[0m \u001b[39mself\u001b[39m\u001b[39m.\u001b[39m_us_dashes \u001b[39m=\u001b[39m \u001b[39mNone\u001b[39;00m\n",
      "File \u001b[0;32m~/ws.leonid/lectures/.venv/lib/python3.8/site-packages/matplotlib/patches.py:355\u001b[0m, in \u001b[0;36mPatch.set_facecolor\u001b[0;34m(self, color)\u001b[0m\n\u001b[1;32m    347\u001b[0m \u001b[39m\"\"\"\u001b[39;00m\n\u001b[1;32m    348\u001b[0m \u001b[39mSet the patch face color.\u001b[39;00m\n\u001b[1;32m    349\u001b[0m \n\u001b[0;32m   (...)\u001b[0m\n\u001b[1;32m    352\u001b[0m \u001b[39mcolor : color or None\u001b[39;00m\n\u001b[1;32m    353\u001b[0m \u001b[39m\"\"\"\u001b[39;00m\n\u001b[1;32m    354\u001b[0m \u001b[39mself\u001b[39m\u001b[39m.\u001b[39m_original_facecolor \u001b[39m=\u001b[39m color\n\u001b[0;32m--> 355\u001b[0m \u001b[39mself\u001b[39;49m\u001b[39m.\u001b[39;49m_set_facecolor(color)\n",
      "File \u001b[0;32m~/ws.leonid/lectures/.venv/lib/python3.8/site-packages/matplotlib/patches.py:343\u001b[0m, in \u001b[0;36mPatch._set_facecolor\u001b[0;34m(self, color)\u001b[0m\n\u001b[1;32m    341\u001b[0m     color \u001b[39m=\u001b[39m mpl\u001b[39m.\u001b[39mrcParams[\u001b[39m'\u001b[39m\u001b[39mpatch.facecolor\u001b[39m\u001b[39m'\u001b[39m]\n\u001b[1;32m    342\u001b[0m alpha \u001b[39m=\u001b[39m \u001b[39mself\u001b[39m\u001b[39m.\u001b[39m_alpha \u001b[39mif\u001b[39;00m \u001b[39mself\u001b[39m\u001b[39m.\u001b[39m_fill \u001b[39melse\u001b[39;00m \u001b[39m0\u001b[39m\n\u001b[0;32m--> 343\u001b[0m \u001b[39mself\u001b[39m\u001b[39m.\u001b[39m_facecolor \u001b[39m=\u001b[39m colors\u001b[39m.\u001b[39;49mto_rgba(color, alpha)\n\u001b[1;32m    344\u001b[0m \u001b[39mself\u001b[39m\u001b[39m.\u001b[39mstale \u001b[39m=\u001b[39m \u001b[39mTrue\u001b[39;00m\n",
      "File \u001b[0;32m~/ws.leonid/lectures/.venv/lib/python3.8/site-packages/matplotlib/colors.py:182\u001b[0m, in \u001b[0;36mto_rgba\u001b[0;34m(c, alpha)\u001b[0m\n\u001b[1;32m    180\u001b[0m     \u001b[39mfrom\u001b[39;00m \u001b[39mmatplotlib\u001b[39;00m \u001b[39mimport\u001b[39;00m rcParams\n\u001b[1;32m    181\u001b[0m     prop_cycler \u001b[39m=\u001b[39m rcParams[\u001b[39m'\u001b[39m\u001b[39maxes.prop_cycle\u001b[39m\u001b[39m'\u001b[39m]\n\u001b[0;32m--> 182\u001b[0m     colors \u001b[39m=\u001b[39m prop_cycler\u001b[39m.\u001b[39;49mby_key()\u001b[39m.\u001b[39mget(\u001b[39m'\u001b[39m\u001b[39mcolor\u001b[39m\u001b[39m'\u001b[39m, [\u001b[39m'\u001b[39m\u001b[39mk\u001b[39m\u001b[39m'\u001b[39m])\n\u001b[1;32m    183\u001b[0m     c \u001b[39m=\u001b[39m colors[\u001b[39mint\u001b[39m(c[\u001b[39m1\u001b[39m:]) \u001b[39m%\u001b[39m \u001b[39mlen\u001b[39m(colors)]\n\u001b[1;32m    184\u001b[0m \u001b[39mtry\u001b[39;00m:\n",
      "File \u001b[0;32m~/ws.leonid/lectures/.venv/lib/python3.8/site-packages/cycler.py:389\u001b[0m, in \u001b[0;36mCycler.by_key\u001b[0;34m(self)\u001b[0m\n\u001b[1;32m    386\u001b[0m out \u001b[39m=\u001b[39m {k: \u001b[39mlist\u001b[39m() \u001b[39mfor\u001b[39;00m k \u001b[39min\u001b[39;00m keys}\n\u001b[1;32m    388\u001b[0m \u001b[39mfor\u001b[39;00m d \u001b[39min\u001b[39;00m \u001b[39mself\u001b[39m:\n\u001b[0;32m--> 389\u001b[0m     \u001b[39mfor\u001b[39;00m k \u001b[39min\u001b[39;00m keys:\n\u001b[1;32m    390\u001b[0m         out[k]\u001b[39m.\u001b[39mappend(d[k])\n\u001b[1;32m    391\u001b[0m \u001b[39mreturn\u001b[39;00m out\n",
      "\u001b[0;31mKeyboardInterrupt\u001b[0m: "
     ]
    },
    {
     "data": {
      "image/png": "[encoded data removed]",
      "text/plain": [
       "<Figure size 1000x1500 with 5 Axes>"
      ]
     },
     "metadata": {},
     "output_type": "display_data"
    }
   ],
   "source": [
    "model_ft.eval()\n",
    "out_dir = Path('../outputs/caltech101_vis/')\n",
    "for image_index in tqdm(range(len(val_dataset_unchanged))):\n",
    "    image_unchanged, image_category = val_dataset_unchanged[image_index]\n",
    "    true_category_name = caltech101.categories[image_category]\n",
    "    # prepare image\n",
    "    image_transformed = torch.unsqueeze(transformer(image_unchanged), 0).to(device)\n",
    "    # get class scores\n",
    "    class_scores = model_ft(image_transformed)\n",
    "    class_scores = class_scores.detach().cpu().numpy()[0]\n",
    "    predicted_class = np.argmax(class_scores)\n",
    "\n",
    "    formated_image_index = str(image_index).zfill(4)\n",
    "\n",
    "    if predicted_class == image_category:\n",
    "        # right classified image. Save its visualization to foulder with class category name\n",
    "        \n",
    "        save_path =out_dir / Path(\n",
    "            f\"true/{true_category_name}_id_{image_category}/{formated_image_index}.png\"\n",
    "        )\n",
    "        get_explanations(\n",
    "            model_ft,\n",
    "            image_transformed,\n",
    "            image_unchanged,\n",
    "            true_category_name,\n",
    "            image_category,\n",
    "            save_path,\n",
    "        )\n",
    "    else:\n",
    "        # misclassified image. Save vis with respect to true and predicted classes\n",
    "        predicted_category_name = caltech101.categories[predicted_class]\n",
    "        predicted_class_score = str(round(class_scores[predicted_class], 3))\n",
    "        true_class_score = str(round(class_scores[image_category], 3))\n",
    "        save_path_predicted_vis = out_dir / Path(\n",
    "            f\"mis_class/{predicted_category_name}_id_{predicted_class}_predicted\"\n",
    "        )\n",
    "        save_path_predicted_vis/= Path(f\"{formated_image_index}_predicted_category({predicted_category_name})_score_{predicted_class_score}_vis.png\")\n",
    "\n",
    "        save_path_true_vis = out_dir / Path(\n",
    "            f\"mis_class/{predicted_category_name}_id_{predicted_class}_predicted\"\n",
    "        )\n",
    "        save_path_true_vis/=Path(f\"{formated_image_index}_true_category({true_category_name})_score_{true_class_score}_vis.png\")\n",
    "\n",
    "        # predicted target vis\n",
    "        get_explanations(\n",
    "            model_ft,\n",
    "            image_transformed,\n",
    "            image_unchanged,\n",
    "            true_category_name,\n",
    "            predicted_class,\n",
    "            save_path_predicted_vis,\n",
    "        )\n",
    "        # true target vis\n",
    "        get_explanations(\n",
    "            model_ft,\n",
    "            image_transformed,\n",
    "            image_unchanged,\n",
    "            true_category_name,\n",
    "            image_category,\n",
    "            save_path_true_vis,\n",
    "        )\n"
   ]
  },
  {
   "cell_type": "code",
   "execution_count": 23,
   "metadata": {},
   "outputs": [
    {
     "data": {
      "text/plain": [
       "'13.827'"
      ]
     },
     "execution_count": 23,
     "metadata": {},
     "output_type": "execute_result"
    }
   ],
   "source": [
    "str(predicted_class_score)"
   ]
  },
  {
   "cell_type": "code",
   "execution_count": 16,
   "metadata": {},
   "outputs": [
    {
     "data": {
      "text/plain": [
       "7"
      ]
     },
     "execution_count": 16,
     "metadata": {},
     "output_type": "execute_result"
    }
   ],
   "source": [
    "image_category"
   ]
  },
  {
   "cell_type": "markdown",
   "metadata": {},
   "source": [
    "# Inspect model architecture"
   ]
  },
  {
   "cell_type": "code",
   "execution_count": 17,
   "metadata": {},
   "outputs": [],
   "source": [
    "# for module_pos, module in model_ft.features._modules.items():\n",
    "#     print(module_pos, module)"
   ]
  },
  {
   "cell_type": "code",
   "execution_count": 18,
   "metadata": {},
   "outputs": [
    {
     "name": "stdout",
     "output_type": "stream",
     "text": [
      "0 Linear(in_features=25088, out_features=4096, bias=True)\n",
      "1 ReLU(inplace=True)\n",
      "2 Dropout(p=0.5, inplace=False)\n",
      "3 Linear(in_features=4096, out_features=4096, bias=True)\n",
      "4 ReLU(inplace=True)\n",
      "5 Dropout(p=0.5, inplace=False)\n",
      "6 Linear(in_features=4096, out_features=101, bias=True)\n"
     ]
    }
   ],
   "source": [
    "for module_pos, module in model_ft.classifier._modules.items():\n",
    "    print(module_pos, module)"
   ]
  },
  {
   "cell_type": "code",
   "execution_count": 19,
   "metadata": {},
   "outputs": [
    {
     "name": "stdout",
     "output_type": "stream",
     "text": [
      "----------------------------------------------------------------\n",
      "        Layer (type)               Output Shape         Param #\n",
      "================================================================\n",
      "            Conv2d-1         [-1, 64, 224, 224]           1,792\n",
      "              ReLU-2         [-1, 64, 224, 224]               0\n",
      "            Conv2d-3         [-1, 64, 224, 224]          36,928\n",
      "              ReLU-4         [-1, 64, 224, 224]               0\n",
      "         MaxPool2d-5         [-1, 64, 112, 112]               0\n",
      "            Conv2d-6        [-1, 128, 112, 112]          73,856\n",
      "              ReLU-7        [-1, 128, 112, 112]               0\n",
      "            Conv2d-8        [-1, 128, 112, 112]         147,584\n",
      "              ReLU-9        [-1, 128, 112, 112]               0\n",
      "        MaxPool2d-10          [-1, 128, 56, 56]               0\n",
      "           Conv2d-11          [-1, 256, 56, 56]         295,168\n",
      "             ReLU-12          [-1, 256, 56, 56]               0\n",
      "           Conv2d-13          [-1, 256, 56, 56]         590,080\n",
      "             ReLU-14          [-1, 256, 56, 56]               0\n",
      "           Conv2d-15          [-1, 256, 56, 56]         590,080\n",
      "             ReLU-16          [-1, 256, 56, 56]               0\n",
      "        MaxPool2d-17          [-1, 256, 28, 28]               0\n",
      "           Conv2d-18          [-1, 512, 28, 28]       1,180,160\n",
      "             ReLU-19          [-1, 512, 28, 28]               0\n",
      "           Conv2d-20          [-1, 512, 28, 28]       2,359,808\n",
      "             ReLU-21          [-1, 512, 28, 28]               0\n",
      "           Conv2d-22          [-1, 512, 28, 28]       2,359,808\n",
      "             ReLU-23          [-1, 512, 28, 28]               0\n",
      "        MaxPool2d-24          [-1, 512, 14, 14]               0\n",
      "           Conv2d-25          [-1, 512, 14, 14]       2,359,808\n",
      "             ReLU-26          [-1, 512, 14, 14]               0\n",
      "           Conv2d-27          [-1, 512, 14, 14]       2,359,808\n",
      "             ReLU-28          [-1, 512, 14, 14]               0\n",
      "           Conv2d-29          [-1, 512, 14, 14]       2,359,808\n",
      "             ReLU-30          [-1, 512, 14, 14]               0\n",
      "        MaxPool2d-31            [-1, 512, 7, 7]               0\n",
      "AdaptiveAvgPool2d-32            [-1, 512, 7, 7]               0\n",
      "           Linear-33                 [-1, 4096]     102,764,544\n",
      "             ReLU-34                 [-1, 4096]               0\n",
      "          Dropout-35                 [-1, 4096]               0\n",
      "           Linear-36                 [-1, 4096]      16,781,312\n",
      "             ReLU-37                 [-1, 4096]               0\n",
      "          Dropout-38                 [-1, 4096]               0\n",
      "           Linear-39                  [-1, 101]         413,797\n",
      "================================================================\n",
      "Total params: 134,674,341\n",
      "Trainable params: 134,674,341\n",
      "Non-trainable params: 0\n",
      "----------------------------------------------------------------\n",
      "Input size (MB): 0.57\n",
      "Forward/backward pass size (MB): 218.77\n",
      "Params size (MB): 513.74\n",
      "Estimated Total Size (MB): 733.09\n",
      "----------------------------------------------------------------\n"
     ]
    }
   ],
   "source": [
    "summary(model_ft, input_size=(3, 224, 224))"
   ]
  },
  {
   "cell_type": "code",
   "execution_count": null,
   "metadata": {},
   "outputs": [],
   "source": []
  }
 ],
 "metadata": {
  "kernelspec": {
   "display_name": "Python 3.8.10 ('.venv': venv)",
   "language": "python",
   "name": "python3"
  },
  "language_info": {
   "codemirror_mode": {
    "name": "ipython",
    "version": 3
   },
   "file_extension": ".py",
   "mimetype": "text/x-python",
   "name": "python",
   "nbconvert_exporter": "python",
   "pygments_lexer": "ipython3",
   "version": "3.8.10"
  },
  "orig_nbformat": 4,
  "vscode": {
   "interpreter": {
    "hash": "bada2b9662873f86490f179f527b07823fa53d955971105c0ff3ba75e58f0801"
   }
  }
 },
 "nbformat": 4,
 "nbformat_minor": 2
}
